{
 "cells": [
  {
   "cell_type": "code",
   "execution_count": 37,
   "metadata": {},
   "outputs": [],
   "source": [
    "import numpy as np\n",
    "\n",
    "np.random.seed(1)"
   ]
  },
  {
   "cell_type": "code",
   "execution_count": 105,
   "metadata": {},
   "outputs": [],
   "source": [
    "w1 = np.random.rand(inp_neuron, hidden_neuron)\n",
    "w2 = np.random.rand(hidden_neuron, out_neuron)\n",
    "\n",
    "def sigmoid(x):\n",
    "    return 1/(1+np.exp(-x))\n",
    "        \n",
    "def analytic_grad(x, y):\n",
    "        \n",
    "    global w1, w2\n",
    "    \n",
    "    hid = sigmoid(np.matmul(x, w1))\n",
    "    out = np.matmul(hid, w2)\n",
    "        \n",
    "    loss = ((y - out)**2)/2\n",
    "    out_delta = (out - y)\n",
    "                            \n",
    "    hid_error = np.matmul(out_delta, w2.T)\n",
    "    hid_delta = hid_error*hid*(1-hid)\n",
    "                          \n",
    "    grad_w2 = np.matmul(hid.T, out_delta)  \n",
    "    grad_w1 = np.matmul(x.T, hid_delta) \n",
    "        \n",
    "    return grad_w1"
   ]
  },
  {
   "cell_type": "code",
   "execution_count": 106,
   "metadata": {},
   "outputs": [],
   "source": [
    "def loss(x, y, w1, w2):\n",
    "                            \n",
    "    lay1 = sigmoid(np.matmul(x, w1))\n",
    "    lay2 = np.matmul(lay1, w2)\n",
    "    loss = ((y - lay2)**2)/2\n",
    "    return loss    \n",
    "    \n",
    "    \n",
    "def numeric_grad(x, y):\n",
    "        \n",
    "    h = 0.0001\n",
    "    global w1, w2\n",
    "    \n",
    "    w1[0,0] += h\n",
    "    loss_h = loss(x, y, w1, w2)   # f(a+h)\n",
    "        \n",
    "    w1[0,0] -= h\n",
    "    loss_ = loss(x, y, w1, w2)    # f(a)\n",
    "        \n",
    "    grad = (loss_h - loss_)/h     # (f(a+h)-f(a)) / h\n",
    "    return grad"
   ]
  },
  {
   "cell_type": "code",
   "execution_count": 107,
   "metadata": {},
   "outputs": [
    {
     "name": "stdout",
     "output_type": "stream",
     "text": [
      "Analytic gradient for weight w1[0][0] -0.12937851674416578\n",
      "Numeric gradient for weight w1[0][0]: -0.12937278681235398\n"
     ]
    }
   ],
   "source": [
    "inp_neuron = 3\n",
    "out_neuron = 1\n",
    "hidden_neuron = 4\n",
    "\n",
    "x = np.array([[1,2,3]])\n",
    "y = np.array([6])\n",
    "\n",
    "print(\"Analytic gradient for weight w1[0][0]\", analytic_grad(x, y)[0][0])\n",
    "print(\"Numeric gradient for weight w1[0][0]:\", numeric_grad(x, y)[0][0])"
   ]
  },
  {
   "cell_type": "code",
   "execution_count": 67,
   "metadata": {},
   "outputs": [
    {
     "name": "stdout",
     "output_type": "stream",
     "text": [
      "gradients of w1:\n",
      "\n",
      " [[-0.28427288 -0.0467112  -0.61256146 -0.05071152]\n",
      " [-0.56854577 -0.09342239 -1.22512292 -0.10142303]\n",
      " [-0.85281865 -0.14013359 -1.83768438 -0.15213455]]\n"
     ]
    }
   ],
   "source": [
    "inp_neuron = 3\n",
    "out_neuron = 1\n",
    "hidden_neuron = 4\n",
    "\n",
    "x = np.array([[1,2,3]])\n",
    "y = np.array([6])\n",
    "\n",
    "def sigmoid(x):\n",
    "    return 1/(1+np.exp(-x))\n",
    "\n",
    "# defining weight matrices\n",
    "w1 = np.random.rand(inp_neuron, hidden_neuron)\n",
    "w2 = np.random.rand(hidden_neuron, out_neuron)\n",
    "\n",
    "# calculating activations\n",
    "hid = sigmoid(np.matmul(x, w1))    \n",
    "out = np.matmul(hid, w2)           \n",
    "        \n",
    "# defining loss function    \n",
    "loss = ((y - out)**2)/2\n",
    "\n",
    "# calculating the gredients of loss w.r.t weights\n",
    "out_delta = (out - y)                         \n",
    "hid_error = np.matmul(out_delta, w2.T)\n",
    "hid_delta = hid_error*hid*(1-hid)                         \n",
    "grad_w2 = np.matmul(hid.T, out_delta)  \n",
    "grad_w1 = np.matmul(x.T, hid_delta) \n",
    "\n",
    "print(\"gradients of w1:\\n\\n\", grad_w1)"
   ]
  },
  {
   "cell_type": "code",
   "execution_count": null,
   "metadata": {},
   "outputs": [],
   "source": []
  }
 ],
 "metadata": {
  "kernelspec": {
   "display_name": "Python 3",
   "language": "python",
   "name": "python3"
  },
  "language_info": {
   "codemirror_mode": {
    "name": "ipython",
    "version": 3
   },
   "file_extension": ".py",
   "mimetype": "text/x-python",
   "name": "python",
   "nbconvert_exporter": "python",
   "pygments_lexer": "ipython3",
   "version": "3.6.4"
  }
 },
 "nbformat": 4,
 "nbformat_minor": 2
}
